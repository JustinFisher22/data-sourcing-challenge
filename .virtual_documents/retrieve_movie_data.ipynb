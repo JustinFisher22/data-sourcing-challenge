


# Dependencies
import requests
import time
from dotenv import load_dotenv
import os
import pandas as pd
import json


# Set environment variables from the .env in the local environment
load_dotenv()

nyt_api_key = os.getenv("NYT_API_KEY")
tmdb_api_key = os.getenv("TMDB_API_KEY")





# Set the base URL
url = "https://api.nytimes.com/svc/search/v2/articlesearch.json?"

# Filter for movie reviews with "love" in the headline
# section_name should be "Movies"
# type_of_material should be "Review"
filter_query = 'section_name:"Movies" AND type_of_material:"Review" AND headline:"love"'

# Use a sort filter, sort by newest
sort = "newest"

# Select the following fields to return:
# headline, web_url, snippet, source, keywords, pub_date, byline, word_count
field_list = "headline,web_url,snippet,source,keywords,pub_date,byline,word_count"

# Search for reviews published between a begin and end date
begin_date = "20130101"
end_date = "20230531"

# Build URL
full_url = (
    f"{url}"
    f"fq={filter_query}&"
    f"fl={field_list}&"
    f"begin_date={begin_date}&"
    f"end_date={end_date}&"
    f"sort={sort}&"
    f"api-key={nyt_api_key}"
)


# Create an empty list to store the reviews
reviews_list = []

# loop through pages 0-19
for page in range(20):
    # create query with a page number
    query_url = f"{full_url}&page={page}"
    
    # API results show 10 articles at a time

    # Make a "GET" request and retrieve the JSON
    response = requests.get(query_url)
    reviews = response.json()   
    
    # Add a twelve second interval between queries to stay within API query limits
    time.sleep(12)
    
    # Try and save the reviews to the reviews_list
    try:
        # loop through the reviews["response"]["docs"] and append each review to the list
        for review in reviews["response"]["docs"]:
            reviews_list.append(review)
        # Print the page that was just retrieved
        print(f"Checked page {page} ")

        # Print the page number that had no results then break from the loop
    except Exception as e:
        print(f"Failed on page {page}: {e}")


# Preview the first 5 results in JSON format
# Use json.dumps with argument indent=4 to format data
print(json.dumps(reviews_list[:5], indent=4))


# Importing Pandas function
from pandas import json_normalize
# Convert reviews_list to a Pandas DataFrame using json_normalize()
convert_reviews_list = json_normalize(reviews_list)
convert_reviews_list


# Extract the title from the "headline.main" column and
# save it to a new column "title"
# Title is between unicode characters \u2018 and \u2019. 
# End string should include " Review" to avoid cutting title early
convert_reviews_list["title"] = convert_reviews_list["headline.main"].apply(lambda st: st[st.find("\u2018")+1:st.find("\u2019 Review")] if "Review" in st else None)
convert_reviews_list


# Extract 'name' and 'value' from items in "keywords" column
def extract_keywords(keyword_list):
    extracted_keywords = ""
    for item in keyword_list:
        # Extract 'name' and 'value'
        keyword = f"{item['name']}: {item['value']};" 
        # Append the keyword item to the extracted_keywords list
        extracted_keywords += keyword
    return extracted_keywords

# Fix the "keywords" column by converting cells from a list to a string
convert_reviews_list["keywords"] = convert_reviews_list["keywords"].apply(extract_keywords)
convert_reviews_list


# Create a list from the "title" column using to_list()
# These titles will be used in the query for The Movie Database
titles = convert_reviews_list['title'].to_list()
titles





# Prepare The Movie Database query
url = "https://api.themoviedb.org/3/search/movie?query=" 
tmdb_key_string = "&api_key=" + tmdb_api_key
movie_url = "https://api.themoviedb.org/3/movie/"
filter_query2 = 'section_name:"Movies" AND type_of_material:"Review" AND headline:"love"'



# Create an empty list to store the results
tmdb_movies_list = []

# Create a request counter to sleep the requests after a multiple
# of 50 requests
request_counter = 1

# Loop through the titles
for title in titles:
    
    # Check if we need to sleep before making a request
    if request_counter % 50 == 0:
        print("Application execution is sleeping for one second")
        time.sleep(1)

    # Add 1 to the request counter
    request_counter += 1
    
    # Perform a "GET" request for The Movie Database
    movie_response = requests.get(url + title + tmdb_key_string)
   
    # Include a try clause to search for the full movie details.
    try:
        search_results = movie_response.json()
        # Get movie id
        movie_id = search_results["results"][0]["id"]

        # Make a request for the full movie details
        full_movie_details = requests.get(url + str(movie_id) + "?" + tmdb_key_string)
        full_movie_details = requests.get(f"{url}{movie_id}{tmdb_key_string}") 
        # Execute "GET" request with url
        movie_request = full_movie_details.json()
        
        # Extract the genre names into a list
        genres = [genre["name"] for genre in movie_request.get("genres", [])]
        
        # Extract the spoken_languages' English name into a list
        spoken_languages = [lang["english_name"] for lang in movie_request.get("spoken_languages", [])]

        # Extract the production_countries' name into a list
        production_countries = [country["name"] for country in movie_request.get("production_countries", [])]

        # Add the relevant data to a dictionary and
        movie_dictionary = {
            "title": movie_request.get("title"),
            "original_title": movie_request.get("original_title"),
            "budget": movie_request.get("budget"),
            "original_language": movie_request.get("original_language"),
            "homepage": movie_request.get("homepage"),
            "overview": movie_request.get("overview"),
            "popularity": movie_request.get("popularity"),
            "runtime": movie_request.get("runtime"),
            "revenue": movie_request.get("revenue"),
            "release_date": movie_request.get("release_date"),
            "vote_average": movie_request.get("vote_average"),
            "vote_count": movie_request.get("vote_count"),
            "genre_names": movie_request.get("genre_names"),
            "spoken_languages": movie_request.get("spoken_languages"),
            "production_countries": movie_request.get("production_countries"),
            "genres": genres,
            "spoken_languages": spoken_languages,
            "production_countries": production_countries
        }
        # append it to the tmdb_movies_list list
        tmdb_movies_list.append(movie_dictionary)

        # Print out the title that was found
        print(f"Found: {title}")

        # Use the except clause to print out a statement if a movie
        # is not found.
    except (IndexError, KeyError) as e:
        print(f"{title} was not found. Error:{e}")



full_movie_details.status_code


# Preview the first 5 results in JSON format
# Use json.dumps with argument indent=4 to format data
print(json.dumps(tmdb_movies_list[:5], indent=4))


# Convert the results to a DataFrame
tmdb_df = pd.DataFrame(tmdb_movies_list)
tmdb_df.head()





# Merge the New York Times reviews and TMDB DataFrames on title



# Remove list brackets and quotation marks on the columns containing lists
# Create a list of the columns that need fixing


# Create a list of characters to remove


# Loop through the list of columns to fix

    # Convert the column to type 'str'


    # Loop through characters to remove


# Display the fixed DataFrame



# Drop "byline.person" column



# Delete duplicate rows and reset index



# Export data to CSV without the index




